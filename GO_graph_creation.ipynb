{
 "cells": [
  {
   "cell_type": "markdown",
   "id": "8d9b5909",
   "metadata": {},
   "source": [
    "# Term Filtering"
   ]
  },
  {
   "cell_type": "code",
   "execution_count": 1,
   "id": "9848e52e",
   "metadata": {},
   "outputs": [],
   "source": [
    "# load necessary libraries\n",
    "import obonet\n",
    "import networkx as nx\n",
    "import pandas as pd\n",
    "import torch"
   ]
  },
  {
   "cell_type": "code",
   "execution_count": 2,
   "id": "b38d9920",
   "metadata": {},
   "outputs": [],
   "source": [
    "# 1. Load ontology and training terms\n",
    "go_graph = obonet.read_obo('data/Train/go-basic.obo')\n",
    "train_terms = pd.read_csv('data/Train/train_terms.tsv', sep='\\t')"
   ]
  },
  {
   "cell_type": "code",
   "execution_count": 3,
   "id": "6b740ee8",
   "metadata": {},
   "outputs": [],
   "source": [
    "# 2. Filter terms to CAFA 5 training set\n",
    "cafa5_terms = train_terms['term'].unique()\n",
    "subgraph_nodes = set()"
   ]
  },
  {
   "cell_type": "code",
   "execution_count": 4,
   "id": "fffbce74",
   "metadata": {},
   "outputs": [],
   "source": [
    "# 3. Collect hierarchy\n",
    "for term in cafa5_terms:\n",
    "    if term in go_graph:\n",
    "        subgraph_nodes.update(nx.ancestors(go_graph, term))\n",
    "        subgraph_nodes.add(term)"
   ]
  },
  {
   "cell_type": "code",
   "execution_count": 5,
   "id": "a1b8c70e",
   "metadata": {},
   "outputs": [],
   "source": [
    "# 4. Create subgraph\n",
    "go_subgraph = go_graph.subgraph(subgraph_nodes)"
   ]
  },
  {
   "cell_type": "code",
   "execution_count": 6,
   "id": "8f4dab97",
   "metadata": {},
   "outputs": [],
   "source": [
    "# 5. Convert to PyTorch Geometric format\n",
    "term_to_idx = {term: i for i, term in enumerate(go_subgraph.nodes())}\n",
    "edges = []\n",
    "for u, v in go_subgraph.edges():\n",
    "    edges.append((term_to_idx[u], term_to_idx[v]))\n",
    "    \n",
    "edge_index = torch.tensor(edges, dtype=torch.long).t().contiguous()"
   ]
  },
  {
   "cell_type": "code",
   "execution_count": 8,
   "id": "da70ab3f",
   "metadata": {},
   "outputs": [],
   "source": [
    "# 6. Save for GCN\n",
    "torch.save(edge_index, 'data/go_hierarchy.pt')"
   ]
  }
 ],
 "metadata": {
  "kernelspec": {
   "display_name": "venv",
   "language": "python",
   "name": "python3"
  },
  "language_info": {
   "codemirror_mode": {
    "name": "ipython",
    "version": 3
   },
   "file_extension": ".py",
   "mimetype": "text/x-python",
   "name": "python",
   "nbconvert_exporter": "python",
   "pygments_lexer": "ipython3",
   "version": "3.10.17"
  }
 },
 "nbformat": 4,
 "nbformat_minor": 5
}
